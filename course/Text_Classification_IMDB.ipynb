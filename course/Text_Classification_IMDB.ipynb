{
 "cells": [
  {
   "cell_type": "code",
   "execution_count": 1,
   "metadata": {},
   "outputs": [
    {
     "name": "stdout",
     "output_type": "stream",
     "text": [
      "1.14.0\n"
     ]
    }
   ],
   "source": [
    "import tensorflow as tf\n",
    "from tensorflow import keras\n",
    "\n",
    "import numpy as np\n",
    "\n",
    "print(tf.__version__)"
   ]
  },
  {
   "cell_type": "code",
   "execution_count": 2,
   "metadata": {},
   "outputs": [
    {
     "name": "stdout",
     "output_type": "stream",
     "text": [
      "Downloading data from https://storage.googleapis.com/tensorflow/tf-keras-datasets/imdb.npz\n",
      "17465344/17464789 [==============================] - 4s 0us/step\n"
     ]
    }
   ],
   "source": [
    "imdb = keras.datasets.imdb\n",
    "# 保留训练数据中出现频次在前10000位的字词，确保数据可管理，罕见字词将被舍弃\n",
    "(train_data, train_labels), (test_data, test_labels) = imdb.load_data(num_words=10000)"
   ]
  },
  {
   "cell_type": "code",
   "execution_count": 3,
   "metadata": {},
   "outputs": [
    {
     "name": "stdout",
     "output_type": "stream",
     "text": [
      "Training entries: 25000, labels: 25000\n"
     ]
    }
   ],
   "source": [
    "# 每个标签都是整数值0或1， 0表示负面影评， 1表示正面影评\n",
    "print(\"Training entries: {}, labels: {}\".format(len(train_data), len(train_labels)))"
   ]
  },
  {
   "cell_type": "code",
   "execution_count": 4,
   "metadata": {},
   "outputs": [
    {
     "name": "stdout",
     "output_type": "stream",
     "text": [
      "[1, 14, 22, 16, 43, 530, 973, 1622, 1385, 65, 458, 4468, 66, 3941, 4, 173, 36, 256, 5, 25, 100, 43, 838, 112, 50, 670, 2, 9, 35, 480, 284, 5, 150, 4, 172, 112, 167, 2, 336, 385, 39, 4, 172, 4536, 1111, 17, 546, 38, 13, 447, 4, 192, 50, 16, 6, 147, 2025, 19, 14, 22, 4, 1920, 4613, 469, 4, 22, 71, 87, 12, 16, 43, 530, 38, 76, 15, 13, 1247, 4, 22, 17, 515, 17, 12, 16, 626, 18, 2, 5, 62, 386, 12, 8, 316, 8, 106, 5, 4, 2223, 5244, 16, 480, 66, 3785, 33, 4, 130, 12, 16, 38, 619, 5, 25, 124, 51, 36, 135, 48, 25, 1415, 33, 6, 22, 12, 215, 28, 77, 52, 5, 14, 407, 16, 82, 2, 8, 4, 107, 117, 5952, 15, 256, 4, 2, 7, 3766, 5, 723, 36, 71, 43, 530, 476, 26, 400, 317, 46, 7, 4, 2, 1029, 13, 104, 88, 4, 381, 15, 297, 98, 32, 2071, 56, 26, 141, 6, 194, 7486, 18, 4, 226, 22, 21, 134, 476, 26, 480, 5, 144, 30, 5535, 18, 51, 36, 28, 224, 92, 25, 104, 4, 226, 65, 16, 38, 1334, 88, 12, 16, 283, 5, 16, 4472, 113, 103, 32, 15, 16, 5345, 19, 178, 32]\n"
     ]
    }
   ],
   "source": [
    "# 影评文本已转换为整型数组， 每个整数表示字典中的一个特定字词\n",
    "print(train_data[0])"
   ]
  },
  {
   "cell_type": "code",
   "execution_count": 5,
   "metadata": {},
   "outputs": [
    {
     "name": "stdout",
     "output_type": "stream",
     "text": [
      "Downloading data from https://storage.googleapis.com/tensorflow/tf-keras-datasets/imdb_word_index.json\n",
      "1646592/1641221 [==============================] - 1s 1us/step\n"
     ]
    }
   ],
   "source": [
    "# 将整数转回字词\n",
    "word_index = imdb.get_word_index()\n",
    "\n",
    "word_index = {k: (v+3) for k, v in word_index.items()}\n",
    "word_index[\"<PAD>\"] = 0\n",
    "word_index[\"<START>\"] = 1\n",
    "word_index[\"UNK\"] = 2  # unknown\n",
    "word_index[\"UNUSED\"] = 3\n",
    "\n",
    "reverse_word_index = dict([(value, key) for (key, value) in word_index.items()])\n",
    "\n",
    "def decode_review(text):\n",
    "    return ' '.join([reverse_word_index.get(i, '?') for i in text])"
   ]
  },
  {
   "cell_type": "code",
   "execution_count": 6,
   "metadata": {},
   "outputs": [
    {
     "data": {
      "text/plain": [
       "\"<START> this film was just brilliant casting location scenery story direction everyone's really suited the part they played and you could just imagine being there robert UNK is an amazing actor and now the same being director UNK father came from the same scottish island as myself so i loved the fact there was a real connection with this film the witty remarks throughout the film were great it was just brilliant so much that i bought the film as soon as it was released for UNK and would recommend it to everyone to watch and the fly fishing was amazing really cried at the end it was so sad and you know what they say if you cry at a film it must have been good and this definitely was also UNK to the two little boy's that played the UNK of norman and paul they were just brilliant children are often left out of the UNK list i think because the stars that play them all grown up are such a big profile for the whole film but these children are amazing and should be praised for what they have done don't you think the whole story was so lovely because it was true and was someone's life after all that was shared with us all\""
      ]
     },
     "execution_count": 6,
     "metadata": {},
     "output_type": "execute_result"
    }
   ],
   "source": [
    "decode_review(train_data[0])"
   ]
  },
  {
   "cell_type": "code",
   "execution_count": 7,
   "metadata": {},
   "outputs": [
    {
     "data": {
      "text/plain": [
       "(256, 256)"
      ]
     },
     "execution_count": 7,
     "metadata": {},
     "output_type": "execute_result"
    }
   ],
   "source": [
    "# 准备数据，将影评整数数组转化成张量\n",
    "# 填充数组，创建一个形状为maxLen*num-reviews的整数张量，后面使用一个能够处理这种形状的嵌入层作为网络中的第一层\n",
    "# pad_sequences函数将长度标准化\n",
    "train_data = keras.preprocessing.sequence.pad_sequences(train_data,\n",
    "                                                        value=word_index[\"<PAD>\"],\n",
    "                                                        padding='post',\n",
    "                                                        maxlen=256)\n",
    "test_data = keras.preprocessing.sequence.pad_sequences(test_data,\n",
    "                                                       value=word_index[\"<PAD>\"],\n",
    "                                                       padding='post',\n",
    "                                                       maxlen=256)\n",
    "len(train_data[0]), len(train_data[1])"
   ]
  },
  {
   "cell_type": "code",
   "execution_count": 8,
   "metadata": {},
   "outputs": [
    {
     "name": "stdout",
     "output_type": "stream",
     "text": [
      "[   1   14   22   16   43  530  973 1622 1385   65  458 4468   66 3941\n",
      "    4  173   36  256    5   25  100   43  838  112   50  670    2    9\n",
      "   35  480  284    5  150    4  172  112  167    2  336  385   39    4\n",
      "  172 4536 1111   17  546   38   13  447    4  192   50   16    6  147\n",
      " 2025   19   14   22    4 1920 4613  469    4   22   71   87   12   16\n",
      "   43  530   38   76   15   13 1247    4   22   17  515   17   12   16\n",
      "  626   18    2    5   62  386   12    8  316    8  106    5    4 2223\n",
      " 5244   16  480   66 3785   33    4  130   12   16   38  619    5   25\n",
      "  124   51   36  135   48   25 1415   33    6   22   12  215   28   77\n",
      "   52    5   14  407   16   82    2    8    4  107  117 5952   15  256\n",
      "    4    2    7 3766    5  723   36   71   43  530  476   26  400  317\n",
      "   46    7    4    2 1029   13  104   88    4  381   15  297   98   32\n",
      " 2071   56   26  141    6  194 7486   18    4  226   22   21  134  476\n",
      "   26  480    5  144   30 5535   18   51   36   28  224   92   25  104\n",
      "    4  226   65   16   38 1334   88   12   16  283    5   16 4472  113\n",
      "  103   32   15   16 5345   19  178   32    0    0    0    0    0    0\n",
      "    0    0    0    0    0    0    0    0    0    0    0    0    0    0\n",
      "    0    0    0    0    0    0    0    0    0    0    0    0    0    0\n",
      "    0    0    0    0]\n"
     ]
    }
   ],
   "source": [
    "print(train_data[0])"
   ]
  },
  {
   "cell_type": "code",
   "execution_count": 9,
   "metadata": {},
   "outputs": [
    {
     "name": "stderr",
     "output_type": "stream",
     "text": [
      "WARNING: Logging before flag parsing goes to stderr.\n",
      "W0807 13:59:59.787665 4623869376 deprecation.py:506] From /Users/skylar/anaconda3/lib/python3.7/site-packages/tensorflow/python/keras/initializers.py:119: calling RandomUniform.__init__ (from tensorflow.python.ops.init_ops) with dtype is deprecated and will be removed in a future version.\n",
      "Instructions for updating:\n",
      "Call initializer instance with the dtype argument instead of passing it to the constructor\n",
      "W0807 13:59:59.838794 4623869376 deprecation.py:506] From /Users/skylar/anaconda3/lib/python3.7/site-packages/tensorflow/python/ops/init_ops.py:1251: calling VarianceScaling.__init__ (from tensorflow.python.ops.init_ops) with dtype is deprecated and will be removed in a future version.\n",
      "Instructions for updating:\n",
      "Call initializer instance with the dtype argument instead of passing it to the constructor\n"
     ]
    },
    {
     "name": "stdout",
     "output_type": "stream",
     "text": [
      "Model: \"sequential\"\n",
      "_________________________________________________________________\n",
      "Layer (type)                 Output Shape              Param #   \n",
      "=================================================================\n",
      "embedding (Embedding)        (None, None, 16)          160000    \n",
      "_________________________________________________________________\n",
      "global_average_pooling1d (Gl (None, 16)                0         \n",
      "_________________________________________________________________\n",
      "dense (Dense)                (None, 16)                272       \n",
      "_________________________________________________________________\n",
      "dense_1 (Dense)              (None, 1)                 17        \n",
      "=================================================================\n",
      "Total params: 160,289\n",
      "Trainable params: 160,289\n",
      "Non-trainable params: 0\n",
      "_________________________________________________________________\n"
     ]
    }
   ],
   "source": [
    "# 构建模型： 使用几层？ 每层各多少各隐藏单元？\n",
    "vocab_size = 10000\n",
    "\n",
    "model = keras.Sequential()\n",
    "# 第一层Embedding：该层会在整数编码的词汇表中查找每个字词-索引的嵌入向量， \n",
    "# 模型训练时学习这些向量， 会向输出数组添加一个维度，生成的维度为：（batch，sequence，embedding）\n",
    "model.add(keras.layers.Embedding(vocab_size, 16))\n",
    "# GlobalAveragePooling1D层：通过对序列维度求平均值，针对每个样本返回一个长度固定的输出向量\n",
    "model.add(keras.layers.GlobalAveragePooling1D())\n",
    "# 上层返回的长度固定的输出向量会传入到全连接Dense层，包含16个隐藏单元\n",
    "model.add(keras.layers.Dense(16, activation=tf.nn.relu))\n",
    "# 最后一层与单个输出节点密集连接，应用sigmoid激活函数后，结果是0-1之间的浮点值，表示概率或置信水平\n",
    "model.add(keras.layers.Dense(1, activation=tf.nn.sigmoid))\n",
    "\n",
    "model.summary()"
   ]
  },
  {
   "cell_type": "code",
   "execution_count": 10,
   "metadata": {},
   "outputs": [
    {
     "name": "stderr",
     "output_type": "stream",
     "text": [
      "W0807 14:05:30.100747 4623869376 deprecation.py:323] From /Users/skylar/anaconda3/lib/python3.7/site-packages/tensorflow/python/ops/nn_impl.py:180: add_dispatch_support.<locals>.wrapper (from tensorflow.python.ops.array_ops) is deprecated and will be removed in a future version.\n",
      "Instructions for updating:\n",
      "Use tf.where in 2.0, which has the same broadcast rule as np.where\n"
     ]
    }
   ],
   "source": [
    "# 由于这是一个二元分类问题且模型会输出一个概率（应用S型激活函数的单个单元层），\n",
    "# 损失函数binary_crossentropy更适合，它可测量概率分布之间的差距\n",
    "model.compile(optimizer=tf.train.AdamOptimizer(),\n",
    "              loss='binary_crossentropy',\n",
    "              metrics=['accuracy'])"
   ]
  },
  {
   "cell_type": "code",
   "execution_count": 11,
   "metadata": {},
   "outputs": [],
   "source": [
    "# 创建验证集\n",
    "# 在训练时，需要检查模型处理从未见过的数据的准确率，从原始训练数据中分离出10000样本，创建一个验证集\n",
    "x_val = train_data[:10000]\n",
    "partial_x_train = train_data[10000:]\n",
    "\n",
    "y_val = train_labels[:10000]\n",
    "partial_y_train = train_labels[10000:]"
   ]
  },
  {
   "cell_type": "code",
   "execution_count": 12,
   "metadata": {},
   "outputs": [
    {
     "name": "stdout",
     "output_type": "stream",
     "text": [
      "Train on 15000 samples, validate on 10000 samples\n",
      "Epoch 1/40\n",
      "15000/15000 [==============================] - 1s 38us/sample - loss: 0.6915 - acc: 0.5581 - val_loss: 0.6888 - val_acc: 0.6090\n",
      "Epoch 2/40\n",
      "15000/15000 [==============================] - 0s 25us/sample - loss: 0.6838 - acc: 0.6898 - val_loss: 0.6788 - val_acc: 0.7119\n",
      "Epoch 3/40\n",
      "15000/15000 [==============================] - 0s 25us/sample - loss: 0.6678 - acc: 0.7486 - val_loss: 0.6584 - val_acc: 0.7598\n",
      "Epoch 4/40\n",
      "15000/15000 [==============================] - 0s 23us/sample - loss: 0.6387 - acc: 0.7680 - val_loss: 0.6250 - val_acc: 0.7723\n",
      "Epoch 5/40\n",
      "15000/15000 [==============================] - 0s 27us/sample - loss: 0.5967 - acc: 0.7994 - val_loss: 0.5826 - val_acc: 0.7938\n",
      "Epoch 6/40\n",
      "15000/15000 [==============================] - 0s 24us/sample - loss: 0.5467 - acc: 0.8233 - val_loss: 0.5362 - val_acc: 0.8114\n",
      "Epoch 7/40\n",
      "15000/15000 [==============================] - 0s 27us/sample - loss: 0.4942 - acc: 0.8401 - val_loss: 0.4888 - val_acc: 0.8292\n",
      "Epoch 8/40\n",
      "15000/15000 [==============================] - 0s 25us/sample - loss: 0.4450 - acc: 0.8575 - val_loss: 0.4479 - val_acc: 0.8412\n",
      "Epoch 9/40\n",
      "15000/15000 [==============================] - 0s 29us/sample - loss: 0.4018 - acc: 0.8715 - val_loss: 0.4134 - val_acc: 0.8511\n",
      "Epoch 10/40\n",
      "15000/15000 [==============================] - 0s 24us/sample - loss: 0.3651 - acc: 0.8817 - val_loss: 0.3861 - val_acc: 0.8569\n",
      "Epoch 11/40\n",
      "15000/15000 [==============================] - 0s 28us/sample - loss: 0.3350 - acc: 0.8891 - val_loss: 0.3644 - val_acc: 0.8639\n",
      "Epoch 12/40\n",
      "15000/15000 [==============================] - 0s 25us/sample - loss: 0.3099 - acc: 0.8961 - val_loss: 0.3478 - val_acc: 0.8676\n",
      "Epoch 13/40\n",
      "15000/15000 [==============================] - 0s 24us/sample - loss: 0.2893 - acc: 0.9018 - val_loss: 0.3336 - val_acc: 0.8741\n",
      "Epoch 14/40\n",
      "15000/15000 [==============================] - 0s 25us/sample - loss: 0.2708 - acc: 0.9071 - val_loss: 0.3231 - val_acc: 0.8764\n",
      "Epoch 15/40\n",
      "15000/15000 [==============================] - 0s 27us/sample - loss: 0.2551 - acc: 0.9128 - val_loss: 0.3147 - val_acc: 0.8774\n",
      "Epoch 16/40\n",
      "15000/15000 [==============================] - 0s 26us/sample - loss: 0.2410 - acc: 0.9183 - val_loss: 0.3076 - val_acc: 0.8781\n",
      "Epoch 17/40\n",
      "15000/15000 [==============================] - 0s 23us/sample - loss: 0.2278 - acc: 0.9219 - val_loss: 0.3019 - val_acc: 0.8807\n",
      "Epoch 18/40\n",
      "15000/15000 [==============================] - 0s 25us/sample - loss: 0.2162 - acc: 0.9252 - val_loss: 0.2974 - val_acc: 0.8826\n",
      "Epoch 19/40\n",
      "15000/15000 [==============================] - 0s 23us/sample - loss: 0.2056 - acc: 0.9282 - val_loss: 0.2933 - val_acc: 0.8829\n",
      "Epoch 20/40\n",
      "15000/15000 [==============================] - 0s 27us/sample - loss: 0.1961 - acc: 0.9327 - val_loss: 0.2907 - val_acc: 0.8839\n",
      "Epoch 21/40\n",
      "15000/15000 [==============================] - 0s 27us/sample - loss: 0.1862 - acc: 0.9386 - val_loss: 0.2885 - val_acc: 0.8848\n",
      "Epoch 22/40\n",
      "15000/15000 [==============================] - 0s 27us/sample - loss: 0.1780 - acc: 0.9418 - val_loss: 0.2870 - val_acc: 0.8855\n",
      "Epoch 23/40\n",
      "15000/15000 [==============================] - 0s 29us/sample - loss: 0.1698 - acc: 0.9461 - val_loss: 0.2868 - val_acc: 0.8843\n",
      "Epoch 24/40\n",
      "15000/15000 [==============================] - 0s 26us/sample - loss: 0.1627 - acc: 0.9485 - val_loss: 0.2859 - val_acc: 0.8843\n",
      "Epoch 25/40\n",
      "15000/15000 [==============================] - 0s 24us/sample - loss: 0.1553 - acc: 0.9516 - val_loss: 0.2854 - val_acc: 0.8866\n",
      "Epoch 26/40\n",
      "15000/15000 [==============================] - 0s 24us/sample - loss: 0.1488 - acc: 0.9541 - val_loss: 0.2867 - val_acc: 0.8834\n",
      "Epoch 27/40\n",
      "15000/15000 [==============================] - 0s 24us/sample - loss: 0.1426 - acc: 0.9568 - val_loss: 0.2868 - val_acc: 0.8858\n",
      "Epoch 28/40\n",
      "15000/15000 [==============================] - 0s 23us/sample - loss: 0.1367 - acc: 0.9591 - val_loss: 0.2881 - val_acc: 0.8851\n",
      "Epoch 29/40\n",
      "15000/15000 [==============================] - 0s 24us/sample - loss: 0.1313 - acc: 0.9616 - val_loss: 0.2903 - val_acc: 0.8853\n",
      "Epoch 30/40\n",
      "15000/15000 [==============================] - 0s 24us/sample - loss: 0.1258 - acc: 0.9629 - val_loss: 0.2905 - val_acc: 0.8852\n",
      "Epoch 31/40\n",
      "15000/15000 [==============================] - 0s 24us/sample - loss: 0.1203 - acc: 0.9660 - val_loss: 0.2922 - val_acc: 0.8859\n",
      "Epoch 32/40\n",
      "15000/15000 [==============================] - 0s 24us/sample - loss: 0.1154 - acc: 0.9683 - val_loss: 0.2943 - val_acc: 0.8861\n",
      "Epoch 33/40\n",
      "15000/15000 [==============================] - 0s 24us/sample - loss: 0.1106 - acc: 0.9697 - val_loss: 0.2972 - val_acc: 0.8834\n",
      "Epoch 34/40\n",
      "15000/15000 [==============================] - 0s 24us/sample - loss: 0.1064 - acc: 0.9703 - val_loss: 0.3001 - val_acc: 0.8850\n",
      "Epoch 35/40\n",
      "15000/15000 [==============================] - 0s 25us/sample - loss: 0.1022 - acc: 0.9721 - val_loss: 0.3035 - val_acc: 0.8836\n",
      "Epoch 36/40\n",
      "15000/15000 [==============================] - 0s 32us/sample - loss: 0.0981 - acc: 0.9743 - val_loss: 0.3056 - val_acc: 0.8840\n",
      "Epoch 37/40\n",
      "15000/15000 [==============================] - 0s 27us/sample - loss: 0.0940 - acc: 0.9752 - val_loss: 0.3088 - val_acc: 0.8833\n",
      "Epoch 38/40\n",
      "15000/15000 [==============================] - 1s 35us/sample - loss: 0.0903 - acc: 0.9771 - val_loss: 0.3131 - val_acc: 0.8817\n",
      "Epoch 39/40\n",
      "15000/15000 [==============================] - 0s 28us/sample - loss: 0.0872 - acc: 0.9780 - val_loss: 0.3176 - val_acc: 0.8808\n",
      "Epoch 40/40\n",
      "15000/15000 [==============================] - 0s 27us/sample - loss: 0.0833 - acc: 0.9797 - val_loss: 0.3207 - val_acc: 0.8821\n"
     ]
    }
   ],
   "source": [
    "# 训练模型\n",
    "# 用有512个样本的小批次训练模型40次。在训练期间，监控模型在验证集的10000个样本上的损失和准确率\n",
    "history = model.fit(partial_x_train,\n",
    "                    partial_y_train,\n",
    "                    epochs=40,\n",
    "                    batch_size=512,\n",
    "                    validation_data=(x_val, y_val),\n",
    "                    verbose=1)"
   ]
  },
  {
   "cell_type": "code",
   "execution_count": 13,
   "metadata": {},
   "outputs": [
    {
     "name": "stdout",
     "output_type": "stream",
     "text": [
      "25000/25000 [==============================] - 1s 26us/sample - loss: 0.3438 - acc: 0.8692\n",
      "[0.34377965923786163, 0.8692]\n"
     ]
    }
   ],
   "source": [
    "# 评估模型： 返回损失和准确率\n",
    "results = model.evaluate(test_data, test_labels)\n",
    "print(results)"
   ]
  },
  {
   "cell_type": "code",
   "execution_count": 15,
   "metadata": {},
   "outputs": [
    {
     "data": {
      "image/png": "[encoded data removed]",
      "text/plain": [
       "<Figure size 288x288 with 1 Axes>"
      ]
     },
     "metadata": {
      "needs_background": "light"
     },
     "output_type": "display_data"
    }
   ],
   "source": [
    "# 创建损失-时间变化图\n",
    "import matplotlib.pyplot as plt\n",
    "\n",
    "acc = history.history['acc']\n",
    "val_acc = history.history['val_acc']\n",
    "loss = history.history['loss']\n",
    "val_loss = history.history['val_loss']\n",
    "\n",
    "epochs = range(1, len(acc) + 1)\n",
    "\n",
    "# \"bo\" is for \"blue dot\"\n",
    "plt.figure(figsize=(4,4))\n",
    "plt.plot(epochs, loss, 'bo', label='Training loss')\n",
    "# \"b\" is for \"solid blue line\"\n",
    "plt.plot(epochs, val_loss, 'b', label='Validation loss')\n",
    "plt.title('Training and validation loss')\n",
    "plt.xlabel('Epochs')\n",
    "plt.ylabel('Loss')\n",
    "plt.legend()\n",
    "\n",
    "plt.show()"
   ]
  },
  {
   "cell_type": "code",
   "execution_count": 17,
   "metadata": {},
   "outputs": [
    {
     "data": {
      "image/png": "[encoded data removed]",
      "text/plain": [
       "<Figure size 432x288 with 1 Axes>"
      ]
     },
     "metadata": {
      "needs_background": "light"
     },
     "output_type": "display_data"
    }
   ],
   "source": [
    "# 创建准确率-时间变化图\n",
    "plt.clf()\n",
    "plt.plot(epochs, acc, 'bo', label='Training acc')\n",
    "plt.plot(epochs, val_acc, 'b', label='Validation acc')\n",
    "plt.title('Training and validation acc')\n",
    "plt.xlabel('Epochs')\n",
    "plt.ylabel('Accuracy')\n",
    "plt.legend()\n",
    "\n",
    "plt.show()"
   ]
  },
  {
   "cell_type": "code",
   "execution_count": null,
   "metadata": {},
   "outputs": [],
   "source": []
  }
 ],
 "metadata": {
  "kernelspec": {
   "display_name": "Python 3",
   "language": "python",
   "name": "python3"
  },
  "language_info": {
   "codemirror_mode": {
    "name": "ipython",
    "version": 3
   },
   "file_extension": ".py",
   "mimetype": "text/x-python",
   "name": "python",
   "nbconvert_exporter": "python",
   "pygments_lexer": "ipython3",
   "version": "3.7.3"
  }
 },
 "nbformat": 4,
 "nbformat_minor": 2
}
